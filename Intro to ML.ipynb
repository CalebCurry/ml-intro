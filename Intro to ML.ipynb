{
 "cells": [
  {
   "cell_type": "markdown",
   "metadata": {},
   "source": [
    "# Table of Contents\n",
    "\n",
    "[1.1](#1.1)  \n",
    "[1.2](#1.2)  \n",
    "[1.3](#1.3)  \n",
    "[1.4](#1.4)  \n",
    "[1.5](#1.5)  \n",
    "[1.6](#1.6)  \n",
    "[1.7](#1.7)  \n",
    "[1.8](#1.8)  \n",
    "\n",
    "[2.1](#2.1)  \n",
    "[2.2](#2.2)  \n",
    "[2.3](#2.3)  \n",
    "[2.4](#2.4)  \n",
    "[2.5](#2.5)  \n",
    "[2.6](#2.6)  \n",
    "[2.7](#2.7)  \n",
    "[2.8](#2.8)  "
   ]
  },
  {
   "cell_type": "markdown",
   "metadata": {},
   "source": [
    "# 1.1 Introduction <a name=1.1>\n",
    "\n",
    "This lesson is designed to give you an overview of data analytics and machine learning. I want you to see the process from beginning to end before we study each topic.\n",
    "\n",
    "Imagine a perfectly simple world where *everyone* who smoked developed cancer. And let's say if you don't smoke, you don't develop cancer. A computer could look at historical data and see this connection.\n",
    "\n",
    "We could then have a representation of this reality and this is known as a **model**. Using this model, we can predict if someone will have cancer by asking if they smoke.\n",
    "\n",
    "This can be visualized as an if statement:\n",
    "```\n",
    "def cancer():\n",
    "    if patient_smokes:\n",
    "        return True\n",
    "    else:\n",
    "        return False\n",
    "```\n",
    "This is a simplified reality, but computers can do this at the large scale seeing correlations between numerous things.\n",
    "\n",
    "By the way, the attributes we analyze are known as **features** and the thing we are trying to predict is known as the **target feature**.\n",
    "\n",
    "I thought the easiest way to explain the whole process would be by breaking up machine learning in to a step by step process.\n",
    "\n",
    "### 10 Steps in Machine Learning\n",
    "\n",
    "1. **Data Collection / Data Mining** - Where is our data coming from?\n",
    "1. **Importing the data** - Get that data in one place to run analytics\n",
    "1. **Cleaning the data** - Huge Process\n",
    "1. **Split the Data** - Typically a 80/20 split of training data and test data. This allows us to confirm our model works on data not used in the training. The word **model** is the result of using a machine learning algorithm on training data.\n",
    "1. **Train the model** - Write code to analyze correlations in data\n",
    "1. **Evaluate the model** - Does it perform well against test data?\n",
    "1. **Frame the model as a function or pipeline** - A system that can take data as input and give a result as output\n",
    "1. **Deploy the model** - There are probably various ways to deploy, but an API that can be invoked in client software is ideal.\n",
    "1. **Monitor performance** - Check results as more and more data passes through the model (models tend to degrade overtime)\n",
    "1. **Update the model** - Deploy better models from new learnings. Keep backups of previous models\n",
    "\n",
    "A lot of these steps can be automated with a **pipeline**. Where the output of one thing goes into the input of the other (such as the the output of cleaning data is clean data and that goes into the split).\n",
    "\n",
    "If you come from a strong programming background, a pipeline is kind of like method chaining.\n",
    "In programming you might see something like this:\n",
    "\n",
    "```users.read().get_emails().email_all()```\n",
    "\n",
    "### The Tools\n",
    "\n",
    "1. **NumPy** - multidimensional arrays. NumPy will be used to store and process. These arrays are similar in concept to Python lists, but not designed for the same purpose. Instead, they're designed for large collections of numbers or doing operations across all the numbers in the collection.\n",
    "1. **Matplotlib** - Tool used for plotting data on charts and graphs. This will be used heavily in data visualization.\n",
    "1. **Pandas** - A data structure for tables in Python. These tables are known as DataFrames and give us a nice way to store and see tabular data.\n",
    "1. **scikit-learn** - Machine learning library with many configurable algorithms available. These configurations on machine learning algorithms are known as hyperparameters.\n",
    "\n",
    "These tools are the tools we will be using for machine learning.\n",
    "\n",
    "**TensorFlow** is a big tool for neural networks and deep learning, which is a large enough topic to need its own course. That being said, you'll probably want to learn some foundational skills with the tools mentioned to help your approach to neural networks.\n",
    "\n",
    "In the next lesson we are going to get our ML environment set up and start working with NumPy.\n"
   ]
  },
  {
   "cell_type": "markdown",
   "metadata": {},
   "source": [
    "# 1.2 Setup <a name=1.2>\n",
    "\n",
    "To succeed in this course, it's ideal to have some Python experience. If you don't, it's not the end of the world. However, it will help you get your environment set up quickly and focus on machine learning instead of Python.\n",
    "\n",
    "Install the latest Python from the [Python website](https://www.python.org/).\n",
    "\n",
    "You can check your version of Python in the terminal using ```python --version```. If this does not give you version ```3.x```, you can try ```python3 --version``` or ```py --version``` on Windows. Use whatever gives you the highest version of Python.\n",
    "\n",
    "In the terminal, you can invoke pip like so:\n",
    "\n",
    "```python3 -m pip --version```\n",
    "\n",
    "or, try invoking pip directly with\n",
    "\n",
    "```pip3 --version```\n",
    "\n",
    "Now, we will install our tools by executing ```pip3 install jupyterlab```. The equivalent using the first technique would be ```python3 -m pip install jupyterlab```\n",
    "\n",
    "Another popular tool is Jupyer which is just slightly different. I think this is the ideal choice for future data science or machine learning projects, but the code is going to be exactly the same. If you're on plain Jupyter Notebooks, you should be able to follow along. There may just be some very minor differences in the user interface or tool specific commands.\n",
    "\n",
    "When we do this, numerous things will be installed that are used for data science. We can get an entire list using ```pip list```:\n",
    "\n",
    "```\n",
    "anyio               2.0.2\n",
    "appnope             0.1.2\n",
    "argon2-cffi         20.1.0\n",
    "async-generator     1.10\n",
    "attrs               20.3.0\n",
    "...\n",
    "```\n",
    "\n",
    "To launch JupyterLab, just say ```jupyter lab``` or ```jupyter-lab``` in the terminal.\n",
    "\n",
    "When we open the file structure to the left, we see all the files in the current directory. This is based off of where you launched Jupyterlab. If you find that you need to be in a higher directory than what is shown, you''ll need to close out of the JupyterLab terminal and launch it from a different directory.\n",
    "\n",
    "It's probably ideal to launch JupyterLab from the root of your project.\n",
    "\n",
    "When we create a notebook we will be given a file in the .ipynb which is a notebook file. If you're new to notebooks they basically give interactive capabilities to type code, get a response, and integrate documentation in the notebook as well.\n",
    "\n",
    "To get started, we will create a notebook and give try to execute this code:\n",
    "\n",
    "```python\n",
    "import matplotlib.pyplot as plt\n",
    "\n",
    "plt.plot([1, 2, 3, 4], [1, 4, 2, 3])  # Plot some data on the axes.\n",
    "```\n",
    "\n",
    "To do this, you'll want to make sure that cell is a code cell, that you have a Python terminal running, and that you execute the code using ```ctrl enter```.\n",
    "\n",
    "Whenever you need to install something, you can invoke commands by prefixing the line with !:\n",
    "\n",
    "```\n",
    "!pip3 install matplotlib\n",
    "```\n",
    "\n",
    "This will need to be invoked before you can run matplotlib if you do not already have it installed.\n",
    "\n",
    "**A side note.** If you're running this code in a traditional text editor like sublime, you'll need to add ```plt.show()``` at the end for it to pop up.\n",
    "\n",
    "**Another side note.** At the time of this writing there is no auto-save with JupyterLab by default. Make sure you save your work as you make changes (ideally a habit after each code change).\n",
    "\n",
    "##Jupyter in the Cloud##\n",
    "\n",
    "If for any reason you are unable to get the installation figured out or if you are on a system where you can't install stuff, you can test out code in the cloud on the Jupyter website. This is a temporary environment and all code will be tossed after being inactive for a short period of time, like a lunch break.\n",
    "\n",
    "If you need a more permanent solution that is easy to use, you can try Google Colab, which will save the notebooks to Google Drive.\n",
    "\n",
    "\n"
   ]
  },
  {
   "cell_type": "code",
   "execution_count": 4,
   "metadata": {
    "collapsed": true,
    "jupyter": {
     "outputs_hidden": true,
     "source_hidden": true
    }
   },
   "outputs": [
    {
     "name": "stdout",
     "output_type": "stream",
     "text": [
      "Requirement already satisfied: matplotlib in /Library/Frameworks/Python.framework/Versions/3.9/lib/python3.9/site-packages (3.3.4)\n",
      "Requirement already satisfied: cycler>=0.10 in /Library/Frameworks/Python.framework/Versions/3.9/lib/python3.9/site-packages (from matplotlib) (0.10.0)\n",
      "Requirement already satisfied: numpy>=1.15 in /Library/Frameworks/Python.framework/Versions/3.9/lib/python3.9/site-packages (from matplotlib) (1.19.4)\n",
      "Requirement already satisfied: kiwisolver>=1.0.1 in /Library/Frameworks/Python.framework/Versions/3.9/lib/python3.9/site-packages (from matplotlib) (1.3.1)\n",
      "Requirement already satisfied: python-dateutil>=2.1 in /Library/Frameworks/Python.framework/Versions/3.9/lib/python3.9/site-packages (from matplotlib) (2.8.1)\n",
      "Requirement already satisfied: pillow>=6.2.0 in /Library/Frameworks/Python.framework/Versions/3.9/lib/python3.9/site-packages (from matplotlib) (8.1.0)\n",
      "Requirement already satisfied: pyparsing!=2.0.4,!=2.1.2,!=2.1.6,>=2.0.3 in /Library/Frameworks/Python.framework/Versions/3.9/lib/python3.9/site-packages (from matplotlib) (2.4.7)\n",
      "Requirement already satisfied: six in /Library/Frameworks/Python.framework/Versions/3.9/lib/python3.9/site-packages (from cycler>=0.10->matplotlib) (1.15.0)\n",
      "\u001b[33mWARNING: You are using pip version 20.2.3; however, version 21.0 is available.\n",
      "You should consider upgrading via the '/Library/Frameworks/Python.framework/Versions/3.9/bin/python3.9 -m pip install --upgrade pip' command.\u001b[0m\n"
     ]
    }
   ],
   "source": [
    "!pip3 install matplotlib"
   ]
  },
  {
   "cell_type": "code",
   "execution_count": 2,
   "metadata": {
    "collapsed": true,
    "jupyter": {
     "outputs_hidden": true,
     "source_hidden": true
    }
   },
   "outputs": [
    {
     "data": {
      "text/plain": [
       "[<matplotlib.lines.Line2D at 0x7fc678d2ab20>]"
      ]
     },
     "execution_count": 2,
     "metadata": {},
     "output_type": "execute_result"
    },
    {
     "data": {
      "image/png": "[encoded data removed]",
      "text/plain": [
       "<Figure size 432x288 with 1 Axes>"
      ]
     },
     "metadata": {
      "needs_background": "light"
     },
     "output_type": "display_data"
    }
   ],
   "source": [
    "import matplotlib.pyplot as plt\n",
    "\n",
    "plt.plot([1, 2, 3, 4], [1, 4, 2, 3]) "
   ]
  },
  {
   "cell_type": "markdown",
   "metadata": {},
   "source": [
    "# 1.3 NumPy Basics <a name=1.3>"
   ]
  },
  {
   "cell_type": "markdown",
   "metadata": {},
   "source": [
    "First, we make sure pip is installed. You can check what version using (inside of JupyterLab):"
   ]
  },
  {
   "cell_type": "code",
   "execution_count": 21,
   "metadata": {
    "collapsed": true,
    "jupyter": {
     "outputs_hidden": true,
     "source_hidden": true
    }
   },
   "outputs": [
    {
     "name": "stdout",
     "output_type": "stream",
     "text": [
      "Name: numpy\n",
      "Version: 1.19.4\n",
      "Summary: NumPy is the fundamental package for array computing with Python.\n",
      "Home-page: https://www.numpy.org\n",
      "Author: Travis E. Oliphant et al.\n",
      "Author-email: None\n",
      "License: BSD\n",
      "Location: /Library/Frameworks/Python.framework/Versions/3.9/lib/python3.9/site-packages\n",
      "Requires: \n",
      "Required-by: pandas, matplotlib\n"
     ]
    }
   ],
   "source": [
    "!pip3 show numpy"
   ]
  },
  {
   "cell_type": "markdown",
   "metadata": {},
   "source": [
    "We will be using a method called ```arange```. It's used to get a range from 0 to some number. If you need a reference to the value it returns, you can assign it to a variable and use it later in your code."
   ]
  },
  {
   "cell_type": "code",
   "execution_count": 22,
   "metadata": {
    "collapsed": true,
    "jupyter": {
     "outputs_hidden": true,
     "source_hidden": true
    }
   },
   "outputs": [
    {
     "data": {
      "text/plain": [
       "array([0, 1, 2, 3, 4, 5, 6, 7, 8, 9])"
      ]
     },
     "execution_count": 22,
     "metadata": {},
     "output_type": "execute_result"
    }
   ],
   "source": [
    "import numpy as np\n",
    "np.arange(10)"
   ]
  },
  {
   "cell_type": "code",
   "execution_count": 24,
   "metadata": {
    "collapsed": true,
    "jupyter": {
     "outputs_hidden": true,
     "source_hidden": true
    }
   },
   "outputs": [
    {
     "name": "stdout",
     "output_type": "stream",
     "text": [
      "[0 1 2 3 4 5 6 7 8 9]\n"
     ]
    }
   ],
   "source": [
    "data = np.arange(10)\n",
    "print(data)"
   ]
  },
  {
   "cell_type": "markdown",
   "metadata": {},
   "source": [
    "You'll also notice that any imports (and any variables) created in previously ran cells are available in all cells ran after this point. If at any time you want to run everything from scratch, you can do that from the ```Kernal``` menu option.\n",
    "\n",
    "The type of this thing is known as an ```ndarray``` which means **n-dimensional array**. It's similar to a lsit in Python but also distinctly different as it's designed to work with a large quantity of numbers. This is the type introduced by NumPy that we are going to br working with throughout this series. "
   ]
  },
  {
   "cell_type": "code",
   "execution_count": 25,
   "metadata": {
    "collapsed": true,
    "jupyter": {
     "outputs_hidden": true,
     "source_hidden": true
    }
   },
   "outputs": [
    {
     "data": {
      "text/plain": [
       "numpy.ndarray"
      ]
     },
     "execution_count": 25,
     "metadata": {},
     "output_type": "execute_result"
    }
   ],
   "source": [
    "type(data)"
   ]
  },
  {
   "cell_type": "markdown",
   "metadata": {},
   "source": [
    "We can also use ```reshape``` to split the data intro rows and columns. Each row is known as an **axis**. This code creates two axes each with 5 elements."
   ]
  },
  {
   "cell_type": "code",
   "execution_count": 26,
   "metadata": {
    "collapsed": true,
    "jupyter": {
     "outputs_hidden": true,
     "source_hidden": true
    }
   },
   "outputs": [
    {
     "data": {
      "text/plain": [
       "array([[0, 1, 2, 3, 4],\n",
       "       [5, 6, 7, 8, 9]])"
      ]
     },
     "execution_count": 26,
     "metadata": {},
     "output_type": "execute_result"
    }
   ],
   "source": [
    "data.reshape(2,5)"
   ]
  },
  {
   "cell_type": "markdown",
   "metadata": {},
   "source": [
    "Each ndarray has different attributes we can use in our code."
   ]
  },
  {
   "cell_type": "code",
   "execution_count": 29,
   "metadata": {
    "collapsed": true,
    "jupyter": {
     "outputs_hidden": true,
     "source_hidden": true
    }
   },
   "outputs": [
    {
     "name": "stdout",
     "output_type": "stream",
     "text": [
      "2 (2, 5) int64\n"
     ]
    }
   ],
   "source": [
    "data = data.reshape(2, 5)\n",
    "print(data.ndim, data.shape, data.dtype)"
   ]
  },
  {
   "cell_type": "markdown",
   "metadata": {},
   "source": [
    "This output is important as you’ll see the data type is ```int64```.\n",
    "The type for the data in the array is all the same, so you can’t mix integers and doubles (```float64```), for example.\n",
    "\n",
    "The fact that these things are typed to one specific type (unlike python lists) allows them to be much more efficient. We know that we have an array of integers, so we can go on treating all the data as integers. Unlike in Python lists which can store any type.\n",
    "\n",
    "The flexibility of python lists is nice, but has it’s limitations in terms of size and performance for extremely large datasets.\n",
    "\n",
    "\n",
    "```arange``` is a method that can be used to generate a starting shape and structure for our data. It can take more than one argument. you can also put a stopping position and a step, similar to Python's ```range```."
   ]
  },
  {
   "cell_type": "code",
   "execution_count": 34,
   "metadata": {
    "collapsed": true,
    "jupyter": {
     "outputs_hidden": true,
     "source_hidden": true
    }
   },
   "outputs": [
    {
     "data": {
      "text/plain": [
       "array([1, 3, 5, 7, 9])"
      ]
     },
     "execution_count": 34,
     "metadata": {},
     "output_type": "execute_result"
    }
   ],
   "source": [
    "np.arange(1, 11, 2)"
   ]
  },
  {
   "cell_type": "markdown",
   "metadata": {},
   "source": [
    "### Array Literals"
   ]
  },
  {
   "cell_type": "markdown",
   "metadata": {},
   "source": [
    "Sometimes you’ll want to generate the shape of the array like we did earlier using arange and reshape.  That’s because sometimes we will know the shape of our data, but we don’t necessarily have the exact numbers yet, so we just fill it in. If we want to create a manual array, we can do it like so. A potential mistake here is to leave off the [], you have to pass one argument."
   ]
  },
  {
   "cell_type": "code",
   "execution_count": 42,
   "metadata": {},
   "outputs": [
    {
     "name": "stdout",
     "output_type": "stream",
     "text": [
      "[1 2 3]\n"
     ]
    }
   ],
   "source": [
    "data = np.array([1, 2, 3])\n",
    "print(data)"
   ]
  },
  {
   "cell_type": "markdown",
   "metadata": {},
   "source": [
    "You can do this in 3D space as well."
   ]
  },
  {
   "cell_type": "code",
   "execution_count": 44,
   "metadata": {},
   "outputs": [
    {
     "name": "stdout",
     "output_type": "stream",
     "text": [
      "[[[1 2]\n",
      "  [2 3]]\n",
      "\n",
      " [[3 4]\n",
      "  [4 5]]]\n"
     ]
    }
   ],
   "source": [
    "data = np.array([((1, 2), (2, 3)), ((3, 4), (4, 5))])\n",
    "print(data)"
   ]
  },
  {
   "cell_type": "markdown",
   "metadata": {},
   "source": [
    "### NumPy arange vs Python range"
   ]
  },
  {
   "cell_type": "markdown",
   "metadata": {},
   "source": [
    "To clear up any confusion, NumPy's ```np.arange``` is used to generate a NumPy ndarray, while the default ```range``` in Python can be used to generate a list (by passing a range to the list constructor).\n",
    "\n",
    "This means we should talk about the clear differences between ```np.arange``` and ```range```, as well as ```ndarray``` and ```list```. \n",
    "\n",
    "The best way to do this would be to look at the difference between ```ndarray``` and ```list```. Then just chose the approriate method to create the one you want. \n",
    "\n",
    "The primary difference in purpose between NumPy's ```ndarray``` and Python's ```list``` is that an ndarray is designed to **work effectively with large datasets** where each element is of the **same type**. On the other hand, ```list``` can work with a mixture of types and uses indirection in how the data is stored (this is how we can access each element quickly while still supporting a mixture of types. You can read more on the [advantages of ndarrays](https://stackoverflow.com/questions/993984/what-are-the-advantages-of-numpy-over-regular-python-lists?noredirect=1&lq=1)).\n",
    "\n",
    "A functional difference is that an invocation to ```np.arange``` returns an ```ndarray``` directly, while ```range``` retuns an iterable ```range``` object that is not immediately usable as a collection until it's passed to a constructor like ```list(range(10))``` (as an example)."
   ]
  },
  {
   "cell_type": "code",
   "execution_count": 49,
   "metadata": {},
   "outputs": [
    {
     "data": {
      "text/plain": [
       "range(0, 10)"
      ]
     },
     "execution_count": 49,
     "metadata": {},
     "output_type": "execute_result"
    }
   ],
   "source": [
    "range(10)"
   ]
  },
  {
   "cell_type": "code",
   "execution_count": 48,
   "metadata": {},
   "outputs": [
    {
     "data": {
      "text/plain": [
       "[0, 1, 2, 3, 4, 5, 6, 7, 8, 9]"
      ]
     },
     "execution_count": 48,
     "metadata": {},
     "output_type": "execute_result"
    }
   ],
   "source": [
    "list(range(10))"
   ]
  },
  {
   "cell_type": "markdown",
   "metadata": {},
   "source": [
    "Before Python 3, range returned a list immediately. If ```range(10)``` ever returns a list for you, then you're mistakenly working with Python 2 and need to use Python 3 for the rest of this course (such as by using ```python3``` in the terminal instead of ```python```)."
   ]
  },
  {
   "cell_type": "markdown",
   "metadata": {},
   "source": [
    "Now that you understand the most important difference between ```ndarray``` and ```list```, you should know a difference between invoking ```np.arange``` and ```range```, which is that ```np.arange``` supports floating point numbers."
   ]
  },
  {
   "cell_type": "code",
   "execution_count": 53,
   "metadata": {},
   "outputs": [
    {
     "data": {
      "text/plain": [
       "array([10. , 10.5, 11. , 11.5, 12. , 12.5, 13. , 13.5, 14. , 14.5, 15. ,\n",
       "       15.5, 16. , 16.5, 17. , 17.5, 18. , 18.5, 19. , 19.5])"
      ]
     },
     "execution_count": 53,
     "metadata": {},
     "output_type": "execute_result"
    }
   ],
   "source": [
    "np.arange(10, 20, .5)"
   ]
  },
  {
   "cell_type": "markdown",
   "metadata": {},
   "source": [
    "Because floating point numbers are not exact, it's not always recommended to do this. But it is good to know."
   ]
  },
  {
   "cell_type": "code",
   "execution_count": 65,
   "metadata": {},
   "outputs": [
    {
     "name": "stdout",
     "output_type": "stream",
     "text": [
      "[1.  1.5]\n",
      "[1.   1.05 1.1 ]\n"
     ]
    }
   ],
   "source": [
    "print(np.arange(1, 2, .5)) #end is exclusive\n",
    "print(np.arange(1, 1.1, .05)) #end is inclusive because rounding error. :(\n"
   ]
  },
  {
   "cell_type": "markdown",
   "metadata": {},
   "source": [
    "# 1.4 Linspace and MatPlotLib Intro <a name=1.4>"
   ]
  },
  {
   "cell_type": "code",
   "execution_count": null,
   "metadata": {},
   "outputs": [],
   "source": []
  }
 ],
 "metadata": {
  "kernelspec": {
   "display_name": "Python 3",
   "language": "python",
   "name": "python3"
  },
  "language_info": {
   "codemirror_mode": {
    "name": "ipython",
    "version": 3
   },
   "file_extension": ".py",
   "mimetype": "text/x-python",
   "name": "python",
   "nbconvert_exporter": "python",
   "pygments_lexer": "ipython3",
   "version": "3.9.0"
  }
 },
 "nbformat": 4,
 "nbformat_minor": 4
}

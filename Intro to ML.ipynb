{
 "cells": [
  {
   "cell_type": "markdown",
   "metadata": {},
   "source": [
    "# Table of Contents\n",
    "\n",
    "[1.1 - Introduction](#1.1)  \n",
    "[1.2 - Setup](#1.2)  \n",
    "[1.3 - NumPy Basics](#1.3)  \n",
    "[1.4 - Linspace](#1.4)  \n",
    "[1.5](#1.5)  \n",
    "[1.6](#1.6)  \n",
    "[1.7](#1.7)  \n",
    "[1.8](#1.8)  \n",
    "\n",
    "[2.1](#2.1)  \n",
    "[2.2](#2.2)  \n",
    "[2.3](#2.3)  \n",
    "[2.4](#2.4)  \n",
    "[2.5](#2.5)  \n",
    "[2.6](#2.6)  \n",
    "[2.7](#2.7)  \n",
    "[2.8](#2.8)  "
   ]
  },
  {
   "cell_type": "markdown",
   "metadata": {},
   "source": [
    "# 1.1 Introduction <a name=1.1>\n",
    "\n",
    "This lesson is designed to give you an overview of data analytics and machine learning. I want you to see the process from beginning to end before we study each topic.\n",
    "\n",
    "Imagine a perfectly simple world where *everyone* who smoked developed cancer. And let's say if you don't smoke, you don't develop cancer. A computer could look at historical data and see this connection.\n",
    "\n",
    "We could then have a representation of this reality and this is known as a **model**. Using this model, we can predict if someone will have cancer by asking if they smoke.\n",
    "\n",
    "This can be visualized as an if statement:\n",
    "```\n",
    "def cancer():\n",
    "    if patient_smokes:\n",
    "        return True\n",
    "    else:\n",
    "        return False\n",
    "```\n",
    "This is a simplified reality, but computers can do this at the large scale seeing correlations between numerous things.\n",
    "\n",
    "By the way, the attributes we analyze are known as **features** and the thing we are trying to predict is known as the **target feature**.\n",
    "\n",
    "I thought the easiest way to explain the whole process would be by breaking up machine learning in to a step by step process.\n",
    "\n",
    "### 10 Steps in Machine Learning\n",
    "\n",
    "1. **Data Collection / Data Mining** - Where is our data coming from?\n",
    "1. **Importing the data** - Get that data in one place to run analytics\n",
    "1. **Cleaning the data** - Huge Process\n",
    "1. **Split the Data** - Typically a 80/20 split of training data and test data. This allows us to confirm our model works on data not used in the training. The word **model** is the result of using a machine learning algorithm on training data.\n",
    "1. **Train the model** - Write code to analyze correlations in data\n",
    "1. **Evaluate the model** - Does it perform well against test data?\n",
    "1. **Frame the model as a function or pipeline** - A system that can take data as input and give a result as output\n",
    "1. **Deploy the model** - There are probably various ways to deploy, but an API that can be invoked in client software is ideal.\n",
    "1. **Monitor performance** - Check results as more and more data passes through the model (models tend to degrade overtime)\n",
    "1. **Update the model** - Deploy better models from new learnings. Keep backups of previous models\n",
    "\n",
    "A lot of these steps can be automated with a **pipeline**. Where the output of one thing goes into the input of the other (such as the the output of cleaning data is clean data and that goes into the split).\n",
    "\n",
    "If you come from a strong programming background, a pipeline is kind of like method chaining.\n",
    "In programming you might see something like this:\n",
    "\n",
    "```users.read().get_emails().email_all()```\n",
    "\n",
    "### The Tools\n",
    "\n",
    "1. **NumPy** - multidimensional arrays. NumPy will be used to store and process. These arrays are similar in concept to Python lists, but not designed for the same purpose. Instead, they're designed for large collections of numbers or doing operations across all the numbers in the collection.\n",
    "1. **Matplotlib** - Tool used for plotting data on charts and graphs. This will be used heavily in data visualization.\n",
    "1. **Pandas** - A data structure for tables in Python. These tables are known as DataFrames and give us a nice way to store and see tabular data.\n",
    "1. **scikit-learn** - Machine learning library with many configurable algorithms available. These configurations on machine learning algorithms are known as hyperparameters.\n",
    "\n",
    "These tools are the tools we will be using for machine learning.\n",
    "\n",
    "**TensorFlow** is a big tool for neural networks and deep learning, which is a large enough topic to need its own course. That being said, you'll probably want to learn some foundational skills with the tools mentioned to help your approach to neural networks.\n",
    "\n",
    "In the next lesson we are going to get our ML environment set up and start working with NumPy.\n"
   ]
  },
  {
   "cell_type": "markdown",
   "metadata": {},
   "source": [
    "# 1.2 Setup <a name=1.2>\n",
    "\n",
    "To succeed in this course, it's ideal to have some Python experience. If you don't, it's not the end of the world. However, it will help you get your environment set up quickly and focus on machine learning instead of Python.\n",
    "\n",
    "Install the latest Python from the [Python website](https://www.python.org/).\n",
    "\n",
    "You can check your version of Python in the terminal using ```python --version```. If this does not give you version ```3.x```, you can try ```python3 --version``` or ```py --version``` on Windows. Use whatever gives you the highest version of Python.\n",
    "\n",
    "In the terminal, you can invoke pip like so:\n",
    "\n",
    "```python3 -m pip --version```\n",
    "\n",
    "or, try invoking pip directly with\n",
    "\n",
    "```pip3 --version```\n",
    "\n",
    "Now, we will install our tools by executing ```pip3 install jupyterlab```. The equivalent using the first technique would be ```python3 -m pip install jupyterlab```\n",
    "\n",
    "Another popular tool is Jupyer which is just slightly different. I think this is the ideal choice for future data science or machine learning projects, but the code is going to be exactly the same. If you're on plain Jupyter Notebooks, you should be able to follow along. There may just be some very minor differences in the user interface or tool specific commands.\n",
    "\n",
    "When we do this, numerous things will be installed that are used for data science. We can get an entire list using ```pip list```:\n",
    "\n",
    "```\n",
    "anyio               2.0.2\n",
    "appnope             0.1.2\n",
    "argon2-cffi         20.1.0\n",
    "async-generator     1.10\n",
    "attrs               20.3.0\n",
    "...\n",
    "```\n",
    "\n",
    "To launch JupyterLab, just say ```jupyter lab``` or ```jupyter-lab``` in the terminal.\n",
    "\n",
    "When we open the file structure to the left, we see all the files in the current directory. This is based off of where you launched Jupyterlab. If you find that you need to be in a higher directory than what is shown, you''ll need to close out of the JupyterLab terminal and launch it from a different directory.\n",
    "\n",
    "It's probably ideal to launch JupyterLab from the root of your project.\n",
    "\n",
    "When we create a notebook we will be given a file in the .ipynb which is a notebook file. If you're new to notebooks they basically give interactive capabilities to type code, get a response, and integrate documentation in the notebook as well.\n",
    "\n",
    "To get started, we will create a notebook and give try to execute this code:\n",
    "\n",
    "```python\n",
    "import matplotlib.pyplot as plt\n",
    "\n",
    "plt.plot([1, 2, 3, 4], [1, 4, 2, 3])  # Plot some data on the axes.\n",
    "```\n",
    "\n",
    "To do this, you'll want to make sure that cell is a code cell, that you have a Python terminal running, and that you execute the code using ```ctrl enter```.\n",
    "\n",
    "Whenever you need to install something, you can invoke commands by prefixing the line with !:\n",
    "\n",
    "```\n",
    "!pip3 install matplotlib\n",
    "```\n",
    "\n",
    "This will need to be invoked before you can run matplotlib if you do not already have it installed.\n",
    "\n",
    "**A side note.** If you're running this code in a traditional text editor like sublime, you'll need to add ```plt.show()``` at the end for it to pop up.\n",
    "\n",
    "**Another side note.** At the time of this writing there is no auto-save with JupyterLab by default. Make sure you save your work as you make changes (ideally a habit after each code change).\n",
    "\n",
    "##Jupyter in the Cloud##\n",
    "\n",
    "If for any reason you are unable to get the installation figured out or if you are on a system where you can't install stuff, you can test out code in the cloud on the Jupyter website. This is a temporary environment and all code will be tossed after being inactive for a short period of time, like a lunch break.\n",
    "\n",
    "If you need a more permanent solution that is easy to use, you can try Google Colab, which will save the notebooks to Google Drive.\n",
    "\n",
    "\n"
   ]
  },
  {
   "cell_type": "code",
   "execution_count": 1,
   "metadata": {
    "jupyter": {
     "source_hidden": true
    }
   },
   "outputs": [
    {
     "name": "stdout",
     "output_type": "stream",
     "text": [
      "Requirement already satisfied: matplotlib in /Library/Frameworks/Python.framework/Versions/3.9/lib/python3.9/site-packages (3.3.4)\n",
      "Requirement already satisfied: numpy>=1.15 in /Library/Frameworks/Python.framework/Versions/3.9/lib/python3.9/site-packages (from matplotlib) (1.19.4)\n",
      "Requirement already satisfied: pillow>=6.2.0 in /Library/Frameworks/Python.framework/Versions/3.9/lib/python3.9/site-packages (from matplotlib) (8.1.0)\n",
      "Requirement already satisfied: pyparsing!=2.0.4,!=2.1.2,!=2.1.6,>=2.0.3 in /Library/Frameworks/Python.framework/Versions/3.9/lib/python3.9/site-packages (from matplotlib) (2.4.7)\n",
      "Requirement already satisfied: python-dateutil>=2.1 in /Library/Frameworks/Python.framework/Versions/3.9/lib/python3.9/site-packages (from matplotlib) (2.8.1)\n",
      "Requirement already satisfied: cycler>=0.10 in /Library/Frameworks/Python.framework/Versions/3.9/lib/python3.9/site-packages (from matplotlib) (0.10.0)\n",
      "Requirement already satisfied: kiwisolver>=1.0.1 in /Library/Frameworks/Python.framework/Versions/3.9/lib/python3.9/site-packages (from matplotlib) (1.3.1)\n",
      "Requirement already satisfied: six>=1.5 in /Library/Frameworks/Python.framework/Versions/3.9/lib/python3.9/site-packages (from python-dateutil>=2.1->matplotlib) (1.15.0)\n",
      "\u001b[33mWARNING: You are using pip version 20.2.3; however, version 21.0.1 is available.\n",
      "You should consider upgrading via the '/Library/Frameworks/Python.framework/Versions/3.9/bin/python3.9 -m pip install --upgrade pip' command.\u001b[0m\n"
     ]
    }
   ],
   "source": [
    "!pip3 install matplotlib"
   ]
  },
  {
   "cell_type": "code",
   "execution_count": 2,
   "metadata": {
    "jupyter": {
     "source_hidden": true
    }
   },
   "outputs": [
    {
     "data": {
      "text/plain": [
       "[<matplotlib.lines.Line2D at 0x7fdb58a4ef40>]"
      ]
     },
     "execution_count": 2,
     "metadata": {},
     "output_type": "execute_result"
    },
    {
     "data": {
      "image/png": "[encoded data removed]",
      "text/plain": [
       "<Figure size 432x288 with 1 Axes>"
      ]
     },
     "metadata": {
      "needs_background": "light"
     },
     "output_type": "display_data"
    }
   ],
   "source": [
    "import matplotlib.pyplot as plt\n",
    "\n",
    "plt.plot([1, 2, 3, 4], [1, 4, 2, 3]) "
   ]
  },
  {
   "cell_type": "markdown",
   "metadata": {},
   "source": [
    "# 1.3 NumPy Basics <a name=1.3>"
   ]
  },
  {
   "cell_type": "markdown",
   "metadata": {},
   "source": [
    "First, we make sure pip is installed. You can check what version using (inside of JupyterLab):"
   ]
  },
  {
   "cell_type": "code",
   "execution_count": 3,
   "metadata": {
    "jupyter": {
     "source_hidden": true
    }
   },
   "outputs": [
    {
     "name": "stdout",
     "output_type": "stream",
     "text": [
      "Name: numpy\n",
      "Version: 1.19.4\n",
      "Summary: NumPy is the fundamental package for array computing with Python.\n",
      "Home-page: https://www.numpy.org\n",
      "Author: Travis E. Oliphant et al.\n",
      "Author-email: None\n",
      "License: BSD\n",
      "Location: /Library/Frameworks/Python.framework/Versions/3.9/lib/python3.9/site-packages\n",
      "Requires: \n",
      "Required-by: pandas, matplotlib\n"
     ]
    }
   ],
   "source": [
    "!pip3 show numpy"
   ]
  },
  {
   "cell_type": "markdown",
   "metadata": {},
   "source": [
    "We will be using a method called ```arange```. It's used to get a range from 0 to some number. If you need a reference to the value it returns, you can assign it to a variable and use it later in your code."
   ]
  },
  {
   "cell_type": "code",
   "execution_count": 4,
   "metadata": {
    "jupyter": {
     "source_hidden": true
    }
   },
   "outputs": [
    {
     "data": {
      "text/plain": [
       "array([0, 1, 2, 3, 4, 5, 6, 7, 8, 9])"
      ]
     },
     "execution_count": 4,
     "metadata": {},
     "output_type": "execute_result"
    }
   ],
   "source": [
    "import numpy as np\n",
    "np.arange(10)"
   ]
  },
  {
   "cell_type": "code",
   "execution_count": 5,
   "metadata": {
    "jupyter": {
     "source_hidden": true
    }
   },
   "outputs": [
    {
     "name": "stdout",
     "output_type": "stream",
     "text": [
      "[0 1 2 3 4 5 6 7 8 9]\n"
     ]
    }
   ],
   "source": [
    "data = np.arange(10)\n",
    "print(data)"
   ]
  },
  {
   "cell_type": "markdown",
   "metadata": {},
   "source": [
    "You'll also notice that any imports (and any variables) created in previously ran cells are available in all cells ran after this point. If at any time you want to run everything from scratch, you can do that from the ```Kernal``` menu option.\n",
    "\n",
    "The type of this thing is known as an ```ndarray``` which means **n-dimensional array**. It's similar to a lsit in Python but also distinctly different as it's designed to work with a large quantity of numbers. This is the type introduced by NumPy that we are going to br working with throughout this series. "
   ]
  },
  {
   "cell_type": "code",
   "execution_count": 6,
   "metadata": {},
   "outputs": [
    {
     "data": {
      "text/plain": [
       "numpy.ndarray"
      ]
     },
     "execution_count": 6,
     "metadata": {},
     "output_type": "execute_result"
    }
   ],
   "source": [
    "type(data)"
   ]
  },
  {
   "cell_type": "markdown",
   "metadata": {},
   "source": [
    "We can also use ```reshape``` to split the data intro rows and columns. Each row is known as an **axis**. This code creates two axes each with 5 elements."
   ]
  },
  {
   "cell_type": "code",
   "execution_count": 7,
   "metadata": {
    "jupyter": {
     "source_hidden": true
    }
   },
   "outputs": [
    {
     "data": {
      "text/plain": [
       "array([[0, 1, 2, 3, 4],\n",
       "       [5, 6, 7, 8, 9]])"
      ]
     },
     "execution_count": 7,
     "metadata": {},
     "output_type": "execute_result"
    }
   ],
   "source": [
    "data.reshape(2,5)"
   ]
  },
  {
   "cell_type": "markdown",
   "metadata": {},
   "source": [
    "Each ndarray has different attributes we can use in our code."
   ]
  },
  {
   "cell_type": "code",
   "execution_count": 8,
   "metadata": {
    "jupyter": {
     "source_hidden": true
    }
   },
   "outputs": [
    {
     "name": "stdout",
     "output_type": "stream",
     "text": [
      "2 (2, 5) int64\n"
     ]
    }
   ],
   "source": [
    "data = data.reshape(2, 5)\n",
    "print(data.ndim, data.shape, data.dtype)"
   ]
  },
  {
   "cell_type": "markdown",
   "metadata": {},
   "source": [
    "This output is important as you’ll see the data type is ```int64```.\n",
    "The type for the data in the array is all the same, so you can’t mix integers and doubles (```float64```), for example.\n",
    "\n",
    "The fact that these things are typed to one specific type (unlike python lists) allows them to be much more efficient. We know that we have an array of integers, so we can go on treating all the data as integers. Unlike in Python lists which can store any type.\n",
    "\n",
    "The flexibility of python lists is nice, but has it’s limitations in terms of size and performance for extremely large datasets.\n",
    "\n",
    "\n",
    "```arange``` is a method that can be used to generate a starting shape and structure for our data. It can take more than one argument. you can also put a stopping position and a step, similar to Python's ```range```."
   ]
  },
  {
   "cell_type": "code",
   "execution_count": 9,
   "metadata": {
    "jupyter": {
     "source_hidden": true
    }
   },
   "outputs": [
    {
     "data": {
      "text/plain": [
       "array([1, 3, 5, 7, 9])"
      ]
     },
     "execution_count": 9,
     "metadata": {},
     "output_type": "execute_result"
    }
   ],
   "source": [
    "np.arange(1, 11, 2)"
   ]
  },
  {
   "cell_type": "markdown",
   "metadata": {},
   "source": [
    "### Array Literals"
   ]
  },
  {
   "cell_type": "markdown",
   "metadata": {},
   "source": [
    "Sometimes you’ll want to generate the shape of the array like we did earlier using arange and reshape.  That’s because sometimes we will know the shape of our data, but we don’t necessarily have the exact numbers yet, so we just fill it in. If we want to create a manual array, we can do it like so. A potential mistake here is to leave off the [], you have to pass one argument."
   ]
  },
  {
   "cell_type": "code",
   "execution_count": 10,
   "metadata": {},
   "outputs": [
    {
     "name": "stdout",
     "output_type": "stream",
     "text": [
      "[1 2 3]\n"
     ]
    }
   ],
   "source": [
    "data = np.array([1, 2, 3])\n",
    "print(data)"
   ]
  },
  {
   "cell_type": "markdown",
   "metadata": {},
   "source": [
    "You can do this in 3D space as well."
   ]
  },
  {
   "cell_type": "code",
   "execution_count": 11,
   "metadata": {},
   "outputs": [
    {
     "name": "stdout",
     "output_type": "stream",
     "text": [
      "[[[1 2]\n",
      "  [2 3]]\n",
      "\n",
      " [[3 4]\n",
      "  [4 5]]]\n"
     ]
    }
   ],
   "source": [
    "data = np.array([((1, 2), (2, 3)), ((3, 4), (4, 5))])\n",
    "print(data)"
   ]
  },
  {
   "cell_type": "markdown",
   "metadata": {},
   "source": [
    "### NumPy arange vs Python range"
   ]
  },
  {
   "cell_type": "markdown",
   "metadata": {},
   "source": [
    "To clear up any confusion, NumPy's ```np.arange``` is used to generate a NumPy ndarray, while the default ```range``` in Python can be used to generate a list (by passing a range to the list constructor).\n",
    "\n",
    "This means we should talk about the clear differences between ```np.arange``` and ```range```, as well as ```ndarray``` and ```list```. \n",
    "\n",
    "The best way to do this would be to look at the difference between ```ndarray``` and ```list```. Then just chose the approriate method to create the one you want. \n",
    "\n",
    "The primary difference in purpose between NumPy's ```ndarray``` and Python's ```list``` is that an ndarray is designed to **work effectively with large datasets** where each element is of the **same type**. On the other hand, ```list``` can work with a mixture of types and uses indirection in how the data is stored (this is how we can access each element quickly while still supporting a mixture of types. You can read more on the [advantages of ndarrays](https://stackoverflow.com/questions/993984/what-are-the-advantages-of-numpy-over-regular-python-lists?noredirect=1&lq=1)).\n",
    "\n",
    "A functional difference is that an invocation to ```np.arange``` returns an ```ndarray``` directly, while ```range``` retuns an iterable ```range``` object that is not immediately usable as a collection until it's passed to a constructor like ```list(range(10))``` (as an example)."
   ]
  },
  {
   "cell_type": "code",
   "execution_count": 12,
   "metadata": {},
   "outputs": [
    {
     "data": {
      "text/plain": [
       "range(0, 10)"
      ]
     },
     "execution_count": 12,
     "metadata": {},
     "output_type": "execute_result"
    }
   ],
   "source": [
    "range(10)"
   ]
  },
  {
   "cell_type": "code",
   "execution_count": 13,
   "metadata": {},
   "outputs": [
    {
     "data": {
      "text/plain": [
       "[0, 1, 2, 3, 4, 5, 6, 7, 8, 9]"
      ]
     },
     "execution_count": 13,
     "metadata": {},
     "output_type": "execute_result"
    }
   ],
   "source": [
    "list(range(10))"
   ]
  },
  {
   "cell_type": "markdown",
   "metadata": {},
   "source": [
    "Before Python 3, range returned a list immediately. If ```range(10)``` ever returns a list for you, then you're mistakenly working with Python 2 and need to use Python 3 for the rest of this course (such as by using ```python3``` in the terminal instead of ```python```)."
   ]
  },
  {
   "cell_type": "markdown",
   "metadata": {},
   "source": [
    "Now that you understand the most important difference between ```ndarray``` and ```list```, you should know a difference between invoking ```np.arange``` and ```range```, which is that ```np.arange``` supports floating point numbers."
   ]
  },
  {
   "cell_type": "code",
   "execution_count": 14,
   "metadata": {},
   "outputs": [
    {
     "data": {
      "text/plain": [
       "array([10. , 10.5, 11. , 11.5, 12. , 12.5, 13. , 13.5, 14. , 14.5, 15. ,\n",
       "       15.5, 16. , 16.5, 17. , 17.5, 18. , 18.5, 19. , 19.5])"
      ]
     },
     "execution_count": 14,
     "metadata": {},
     "output_type": "execute_result"
    }
   ],
   "source": [
    "np.arange(10, 20, .5)"
   ]
  },
  {
   "cell_type": "markdown",
   "metadata": {},
   "source": [
    "Because floating point numbers are not exact, it's not always recommended to do this. But it is good to know."
   ]
  },
  {
   "cell_type": "code",
   "execution_count": 15,
   "metadata": {},
   "outputs": [
    {
     "name": "stdout",
     "output_type": "stream",
     "text": [
      "[1.  1.5]\n",
      "[1.   1.05 1.1 ]\n"
     ]
    }
   ],
   "source": [
    "print(np.arange(1, 2, .5)) #end is exclusive\n",
    "print(np.arange(1, 1.1, .05)) #end is inclusive because rounding error. :(\n"
   ]
  },
  {
   "cell_type": "markdown",
   "metadata": {},
   "source": [
    "# 1.4 Linspace and MatPlotLib Intro <a name=1.4>"
   ]
  },
  {
   "cell_type": "markdown",
   "metadata": {},
   "source": [
    "[```np.Linspace```](https://numpy.org/doc/stable/reference/generated/numpy.linspace.html) is used to give evenly spaced numbers over some interval. It will return an ```ndarray``` just like ```np.arange```, so you you can use it to achieve similar results, but it works a little differently. The primary difference is that ```np.linspace``` will give you a number of samples while ```np.arange``` will give you a certain interval size.\n",
    "\n",
    "\n",
    "```np.arange``` arguments:\n",
    "1. Start (inclusive)\n",
    "1. Stop (exclusive)\n",
    "1. Step\n",
    "\n",
    "```np.linspace``` arguments:\n",
    "1. Start (inclusive)\n",
    "1. Stop (inclusive)\n",
    "1. How many samples\n"
   ]
  },
  {
   "cell_type": "code",
   "execution_count": 16,
   "metadata": {},
   "outputs": [
    {
     "name": "stdout",
     "output_type": "stream",
     "text": [
      "[1 3 5 7 9]\n",
      "[ 2  4  6  8 10 12 14 16 18]\n"
     ]
    }
   ],
   "source": [
    "print(np.arange(1, 10, 2)) #samples seperated by 2 from 1 to 10\n",
    "print(np.arange(2, 20, 2)) #samples seperated by 2 from 1 to 20"
   ]
  },
  {
   "cell_type": "code",
   "execution_count": 17,
   "metadata": {},
   "outputs": [
    {
     "name": "stdout",
     "output_type": "stream",
     "text": [
      "[ 1.  2.  3.  4.  5.  6.  7.  8.  9. 10.]\n",
      "[ 2.  4.  6.  8. 10. 12. 14. 16. 18. 20.]\n"
     ]
    }
   ],
   "source": [
    "print(np.linspace(1, 10, 10)) #10 samples from 1 to 10\n",
    "print(np.linspace(2, 20, 10)) #10 samples from 2 to 20"
   ]
  },
  {
   "cell_type": "markdown",
   "metadata": {},
   "source": [
    "We got nice whole numbers because we conveniently had a samples size that worked perfectly. This is not always the case."
   ]
  },
  {
   "cell_type": "code",
   "execution_count": 18,
   "metadata": {},
   "outputs": [
    {
     "data": {
      "text/plain": [
       "array([ 1.        ,  1.47368421,  1.94736842,  2.42105263,  2.89473684,\n",
       "        3.36842105,  3.84210526,  4.31578947,  4.78947368,  5.26315789,\n",
       "        5.73684211,  6.21052632,  6.68421053,  7.15789474,  7.63157895,\n",
       "        8.10526316,  8.57894737,  9.05263158,  9.52631579, 10.        ])"
      ]
     },
     "execution_count": 18,
     "metadata": {},
     "output_type": "execute_result"
    }
   ],
   "source": [
    "np.linspace(1, 10, 20)"
   ]
  },
  {
   "cell_type": "markdown",
   "metadata": {},
   "source": [
    "Rather than counting up by some interval, it goes from the starting position to the ending position using a specified number of steps. \n",
    "\n",
    "Say we had ```np.linspace(1, 10, 50)```, this would give us 50 linearly spaced values in the interval [1, 10]. 50 samples is actually the default, so you could just do ```np.linspace(1, 10)```.\n",
    "\n",
    "\n",
    "lets go over some more examples. "
   ]
  },
  {
   "cell_type": "code",
   "execution_count": 19,
   "metadata": {},
   "outputs": [
    {
     "name": "stdout",
     "output_type": "stream",
     "text": [
      "[ 1.  2.  3.  4.  5.  6.  7.  8.  9. 10. 11. 12. 13. 14. 15. 16. 17. 18.\n",
      " 19. 20. 21. 22. 23. 24. 25. 26. 27. 28. 29. 30. 31. 32. 33. 34. 35. 36.\n",
      " 37. 38. 39. 40. 41. 42. 43. 44. 45. 46. 47. 48. 49. 50.]\n",
      "[  2.   4.   6.   8.  10.  12.  14.  16.  18.  20.  22.  24.  26.  28.\n",
      "  30.  32.  34.  36.  38.  40.  42.  44.  46.  48.  50.  52.  54.  56.\n",
      "  58.  60.  62.  64.  66.  68.  70.  72.  74.  76.  78.  80.  82.  84.\n",
      "  86.  88.  90.  92.  94.  96.  98. 100.]\n",
      "[  4.   8.  12.  16.  20.  24.  28.  32.  36.  40.  44.  48.  52.  56.\n",
      "  60.  64.  68.  72.  76.  80.  84.  88.  92.  96. 100. 104. 108. 112.\n",
      " 116. 120. 124. 128. 132. 136. 140. 144. 148. 152. 156. 160. 164. 168.\n",
      " 172. 176. 180. 184. 188. 192. 196. 200.]\n"
     ]
    }
   ],
   "source": [
    "print(np.linspace(1, 50))\n",
    "print(np.linspace(2, 100))\n",
    "print(np.linspace(4, 200))"
   ]
  },
  {
   "cell_type": "markdown",
   "metadata": {},
   "source": [
    "\n",
    "These all work nice because to get 50 samples between the start and the end, you’re going to get all integers, but if you change the numbers, it’s going to evenly split up the space so no we get a bunch of fractional numbers."
   ]
  },
  {
   "cell_type": "code",
   "execution_count": 20,
   "metadata": {},
   "outputs": [
    {
     "name": "stdout",
     "output_type": "stream",
     "text": [
      "[  4.           8.02040816  12.04081633  16.06122449  20.08163265\n",
      "  24.10204082  28.12244898  32.14285714  36.16326531  40.18367347\n",
      "  44.20408163  48.2244898   52.24489796  56.26530612  60.28571429\n",
      "  64.30612245  68.32653061  72.34693878  76.36734694  80.3877551\n",
      "  84.40816327  88.42857143  92.44897959  96.46938776 100.48979592\n",
      " 104.51020408 108.53061224 112.55102041 116.57142857 120.59183673\n",
      " 124.6122449  128.63265306 132.65306122 136.67346939 140.69387755\n",
      " 144.71428571 148.73469388 152.75510204 156.7755102  160.79591837\n",
      " 164.81632653 168.83673469 172.85714286 176.87755102 180.89795918\n",
      " 184.91836735 188.93877551 192.95918367 196.97959184 201.        ]\n"
     ]
    }
   ],
   "source": [
    "print(np.linspace(4, 201))"
   ]
  },
  {
   "cell_type": "markdown",
   "metadata": {},
   "source": [
    "### Linspace for Fractional Numbers"
   ]
  },
  {
   "cell_type": "markdown",
   "metadata": {},
   "source": [
    "earlier I mentioned that ```np.arange``` wasn't recommended with fractional numbers. ```np.linspace``` on the otherhand is fine for fractional numbers. \n",
    "\n",
    "let’s say we want the numbers 0 through 10 inclusive, but we want each decimal position.\n",
    "0, 0.1, 0.2 …...1, 1.1, 1.2, 1.3…. 10. That's a total of 101 numbers."
   ]
  },
  {
   "cell_type": "code",
   "execution_count": 21,
   "metadata": {},
   "outputs": [
    {
     "data": {
      "text/plain": [
       "array([ 0. ,  0.1,  0.2,  0.3,  0.4,  0.5,  0.6,  0.7,  0.8,  0.9,  1. ,\n",
       "        1.1,  1.2,  1.3,  1.4,  1.5,  1.6,  1.7,  1.8,  1.9,  2. ,  2.1,\n",
       "        2.2,  2.3,  2.4,  2.5,  2.6,  2.7,  2.8,  2.9,  3. ,  3.1,  3.2,\n",
       "        3.3,  3.4,  3.5,  3.6,  3.7,  3.8,  3.9,  4. ,  4.1,  4.2,  4.3,\n",
       "        4.4,  4.5,  4.6,  4.7,  4.8,  4.9,  5. ,  5.1,  5.2,  5.3,  5.4,\n",
       "        5.5,  5.6,  5.7,  5.8,  5.9,  6. ,  6.1,  6.2,  6.3,  6.4,  6.5,\n",
       "        6.6,  6.7,  6.8,  6.9,  7. ,  7.1,  7.2,  7.3,  7.4,  7.5,  7.6,\n",
       "        7.7,  7.8,  7.9,  8. ,  8.1,  8.2,  8.3,  8.4,  8.5,  8.6,  8.7,\n",
       "        8.8,  8.9,  9. ,  9.1,  9.2,  9.3,  9.4,  9.5,  9.6,  9.7,  9.8,\n",
       "        9.9, 10. ])"
      ]
     },
     "execution_count": 21,
     "metadata": {},
     "output_type": "execute_result"
    }
   ],
   "source": [
    "np.linspace(0, 10, 101)"
   ]
  },
  {
   "cell_type": "markdown",
   "metadata": {},
   "source": [
    "### Linspace with Matplotlib"
   ]
  },
  {
   "cell_type": "markdown",
   "metadata": {},
   "source": [
    "One of the useful things of linspace is generating a certain number of sequence to plot for a function"
   ]
  },
  {
   "cell_type": "code",
   "execution_count": 22,
   "metadata": {},
   "outputs": [
    {
     "name": "stdout",
     "output_type": "stream",
     "text": [
      "Requirement already satisfied: matplotlib in /Library/Frameworks/Python.framework/Versions/3.9/lib/python3.9/site-packages (3.3.4)\n",
      "Requirement already satisfied: cycler>=0.10 in /Library/Frameworks/Python.framework/Versions/3.9/lib/python3.9/site-packages (from matplotlib) (0.10.0)\n",
      "Requirement already satisfied: numpy>=1.15 in /Library/Frameworks/Python.framework/Versions/3.9/lib/python3.9/site-packages (from matplotlib) (1.19.4)\n",
      "Requirement already satisfied: pyparsing!=2.0.4,!=2.1.2,!=2.1.6,>=2.0.3 in /Library/Frameworks/Python.framework/Versions/3.9/lib/python3.9/site-packages (from matplotlib) (2.4.7)\n",
      "Requirement already satisfied: pillow>=6.2.0 in /Library/Frameworks/Python.framework/Versions/3.9/lib/python3.9/site-packages (from matplotlib) (8.1.0)\n",
      "Requirement already satisfied: python-dateutil>=2.1 in /Library/Frameworks/Python.framework/Versions/3.9/lib/python3.9/site-packages (from matplotlib) (2.8.1)\n",
      "Requirement already satisfied: kiwisolver>=1.0.1 in /Library/Frameworks/Python.framework/Versions/3.9/lib/python3.9/site-packages (from matplotlib) (1.3.1)\n",
      "Requirement already satisfied: six in /Library/Frameworks/Python.framework/Versions/3.9/lib/python3.9/site-packages (from cycler>=0.10->matplotlib) (1.15.0)\n",
      "\u001b[33mWARNING: You are using pip version 20.2.3; however, version 21.0.1 is available.\n",
      "You should consider upgrading via the '/Library/Frameworks/Python.framework/Versions/3.9/bin/python3.9 -m pip install --upgrade pip' command.\u001b[0m\n"
     ]
    }
   ],
   "source": [
    "!pip3 install matplotlib"
   ]
  },
  {
   "cell_type": "code",
   "execution_count": 23,
   "metadata": {},
   "outputs": [
    {
     "data": {
      "image/png": "[encoded data removed]",
      "text/plain": [
       "<Figure size 432x288 with 1 Axes>"
      ]
     },
     "metadata": {
      "needs_background": "light"
     },
     "output_type": "display_data"
    }
   ],
   "source": [
    "import matplotlib.pyplot as plt\n",
    "\n",
    "start = 0\n",
    "stop = 9\n",
    "samples = 10\n",
    "\n",
    "data = np.linspace(start, stop, samples)\n",
    "\n",
    "plt.plot(data, data, 'o')\n",
    "plt.show() #may be needed in other editors"
   ]
  },
  {
   "cell_type": "code",
   "execution_count": 24,
   "metadata": {},
   "outputs": [
    {
     "data": {
      "text/plain": [
       "[<matplotlib.lines.Line2D at 0x7fdb498d73a0>]"
      ]
     },
     "execution_count": 24,
     "metadata": {},
     "output_type": "execute_result"
    },
    {
     "data": {
      "image/png": "[encoded data removed]",
      "text/plain": [
       "<Figure size 432x288 with 1 Axes>"
      ]
     },
     "metadata": {
      "needs_background": "light"
     },
     "output_type": "display_data"
    }
   ],
   "source": [
    "data = np.linspace(start, stop, samples, endpoint=False)\n",
    "plt.ylim([-3, 10])\n",
    "plt.plot(data, data, 'x')"
   ]
  },
  {
   "cell_type": "code",
   "execution_count": 25,
   "metadata": {},
   "outputs": [
    {
     "name": "stdout",
     "output_type": "stream",
     "text": [
      "[0. 0. 0. 0. 0. 0. 0. 0. 0. 0.]\n"
     ]
    },
    {
     "data": {
      "text/plain": [
       "[<matplotlib.lines.Line2D at 0x7fdb4996cd60>]"
      ]
     },
     "execution_count": 25,
     "metadata": {},
     "output_type": "execute_result"
    },
    {
     "data": {
      "image/png": "[encoded data removed]",
      "text/plain": [
       "<Figure size 432x288 with 1 Axes>"
      ]
     },
     "metadata": {
      "needs_background": "light"
     },
     "output_type": "display_data"
    }
   ],
   "source": [
    "y = np.zeros(samples) #gives an array of 0\n",
    "print(y)\n",
    "plt.plot(data, y, 'x')"
   ]
  },
  {
   "cell_type": "markdown",
   "metadata": {},
   "source": [
    "### Plotting with a Function Call"
   ]
  },
  {
   "cell_type": "markdown",
   "metadata": {},
   "source": [
    "This will plot 50 values of sin(x) from -10, 10"
   ]
  },
  {
   "cell_type": "code",
   "execution_count": 26,
   "metadata": {},
   "outputs": [
    {
     "data": {
      "text/plain": [
       "[<matplotlib.lines.Line2D at 0x7fdb3015d760>]"
      ]
     },
     "execution_count": 26,
     "metadata": {},
     "output_type": "execute_result"
    },
    {
     "data": {
      "image/png": "[encoded data removed]",
      "text/plain": [
       "<Figure size 432x288 with 1 Axes>"
      ]
     },
     "metadata": {
      "needs_background": "light"
     },
     "output_type": "display_data"
    }
   ],
   "source": [
    "data = np.linspace(-10, 10)\n",
    "\n",
    "plt.plot(data, np.sin(data))"
   ]
  },
  {
   "cell_type": "markdown",
   "metadata": {},
   "source": [
    "# NumPy Functions"
   ]
  },
  {
   "cell_type": "markdown",
   "metadata": {},
   "source": [
    "Why does NumPy have functions that already exist in the default Python Math class? Such as the ```sin``` function?\n",
    "\n",
    "It's because the NumPy functions are specifically designed to be executed acorss numerous numbers.\n",
    "\n",
    "You can also use lists with NumPy functions, but it's best to use ndarrays when possible. "
   ]
  },
  {
   "cell_type": "code",
   "execution_count": 27,
   "metadata": {},
   "outputs": [
    {
     "name": "stdout",
     "output_type": "stream",
     "text": [
      "only size-1 arrays can be converted to Python scalars\n"
     ]
    }
   ],
   "source": [
    "from math import sin\n",
    "\n",
    "#Trying math function on ndarray\n",
    "data = np.arange(-10, 10)\n",
    "try:\n",
    "    plt.plot(data, sin(data), 'o')\n",
    "except Exception as e:\n",
    "    print(e)"
   ]
  },
  {
   "cell_type": "code",
   "execution_count": 28,
   "metadata": {},
   "outputs": [
    {
     "data": {
      "text/plain": [
       "array([ 0.54402111, -0.41211849, -0.98935825, -0.6569866 ,  0.2794155 ,\n",
       "        0.95892427,  0.7568025 , -0.14112001, -0.90929743, -0.84147098,\n",
       "        0.        ,  0.84147098,  0.90929743,  0.14112001, -0.7568025 ,\n",
       "       -0.95892427, -0.2794155 ,  0.6569866 ,  0.98935825,  0.41211849])"
      ]
     },
     "execution_count": 28,
     "metadata": {},
     "output_type": "execute_result"
    }
   ],
   "source": [
    "#Showing that np functions work\n",
    "np.sin(data)"
   ]
  },
  {
   "cell_type": "code",
   "execution_count": 29,
   "metadata": {},
   "outputs": [
    {
     "data": {
      "text/plain": [
       "array([ 0.84147098,  0.90929743,  0.14112001, -0.7568025 ])"
      ]
     },
     "execution_count": 29,
     "metadata": {},
     "output_type": "execute_result"
    }
   ],
   "source": [
    "#Showing that np functions work with lists, too\n",
    "data = [1, 2, 3, 4]    \n",
    "np.sin(data)"
   ]
  },
  {
   "cell_type": "code",
   "execution_count": 30,
   "metadata": {},
   "outputs": [
    {
     "data": {
      "text/plain": [
       "[0.8414709848078965,\n",
       " 0.9092974268256817,\n",
       " 0.1411200080598672,\n",
       " -0.7568024953079282]"
      ]
     },
     "execution_count": 30,
     "metadata": {},
     "output_type": "execute_result"
    }
   ],
   "source": [
    "#Plain Python way of doing the same thing (less efficient):\n",
    "[sin(d) for d in data]"
   ]
  },
  {
   "cell_type": "code",
   "execution_count": 31,
   "metadata": {},
   "outputs": [
    {
     "data": {
      "text/plain": [
       "array([1, 2, 3, 4])"
      ]
     },
     "execution_count": 31,
     "metadata": {},
     "output_type": "execute_result"
    }
   ],
   "source": [
    "#convert a list to ndarray:\n",
    "data = np.array(data)\n",
    "data"
   ]
  },
  {
   "cell_type": "markdown",
   "metadata": {},
   "source": [
    "### Reshaping Data"
   ]
  },
  {
   "cell_type": "code",
   "execution_count": 33,
   "metadata": {},
   "outputs": [
    {
     "data": {
      "text/plain": [
       "array([[ 0,  1,  2,  3,  4,  5],\n",
       "       [ 6,  7,  8,  9, 10, 11],\n",
       "       [12, 13, 14, 15, 16, 17],\n",
       "       [18, 19, 20, 21, 22, 23],\n",
       "       [24, 25, 26, 27, 28, 29]])"
      ]
     },
     "execution_count": 33,
     "metadata": {},
     "output_type": "execute_result"
    }
   ],
   "source": [
    "a = np.arange(30)  # 0-29\n",
    "a.reshape(5, 6)  # rows, columns"
   ]
  }
 ],
 "metadata": {
  "kernelspec": {
   "display_name": "Python 3",
   "language": "python",
   "name": "python3"
  },
  "language_info": {
   "codemirror_mode": {
    "name": "ipython",
    "version": 3
   },
   "file_extension": ".py",
   "mimetype": "text/x-python",
   "name": "python",
   "nbconvert_exporter": "python",
   "pygments_lexer": "ipython3",
   "version": "3.9.0"
  }
 },
 "nbformat": 4,
 "nbformat_minor": 4
}
